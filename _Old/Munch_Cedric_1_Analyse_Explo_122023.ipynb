{
 "cells": [
  {
   "cell_type": "markdown",
   "metadata": {
    "datalore": {
     "hide_input_from_viewers": false,
     "hide_output_from_viewers": false,
     "node_id": "YPWPsLTA6PHzzu8NBJiBGc",
     "report_properties": {
      "rowId": "bQVdch3WwH71PERijuXOJf"
     },
     "type": "MD"
    },
    "id": "BVDmPdkgiwsk"
   },
   "source": [
    "# PROJET 10 DATA ANALYST"
   ]
  },
  {
   "cell_type": "markdown",
   "metadata": {
    "datalore": {
     "hide_input_from_viewers": false,
     "hide_output_from_viewers": false,
     "node_id": "k48auDisTvRZsZfKvxjypF",
     "report_properties": {
      "rowId": "oLZfdyjY97Qfpmb939g74j"
     },
     "type": "MD"
    },
    "id": "SuuBTKk3iwso"
   },
   "source": [
    "# OBJECTIF DE CE NOTEBOOK\n",
    "\n",
    "Pour l'Organisation Nationale de lutte Contre le Faux-Monnayage (ONCFM), nous devons produire :\n",
    "\n",
    "- Une analyse descriptive des données, notamment la répartition des dimensions des billets, le nombre de vrais / faux billets, etc.\n",
    "- Une détection automatisée des faux billets à partir des dimensions de ces derniers. Les méthodes à utiliser sont la régression logistique et k-means avec une matrice de confusion pour évaluer les performances des modèles. Une fois la phase d'entrainement et de test achevée, l'algorithme devra être capable de prédire si un billet est vrai ou faux.\n",
    "\n",
    "Glossaire :\n",
    "- diagonal : la diagonale du billet (en mm)\n",
    "- height_left : la hauteur du billet (mesurée sur le côté gauche, en mm)\n",
    "- height_right : la hauteur du billet (mesurée sur le côté droit, en mm)\n",
    "- length : la longueur du billet (en mm)\n",
    "- margin_low : la marge entre le bord inférieur du billet et l'image de celui-ci (en mm)\n",
    "- margin_up : la marge entre le bord supérieur du billet et l'image de celui-ci (en mm)"
   ]
  },
  {
   "cell_type": "markdown",
   "metadata": {
    "datalore": {
     "hide_input_from_viewers": false,
     "hide_output_from_viewers": false,
     "node_id": "huuuZ9nVEfTyGWBHbQ8VgQ",
     "report_properties": {
      "rowId": "KcHwtHqP2KarZqESgS5Cuv"
     },
     "type": "MD"
    },
    "id": "bUeH7jbOiwss"
   },
   "source": [
    "## Etape 1 - Importation des librairies et chargement des fichiers"
   ]
  },
  {
   "cell_type": "markdown",
   "metadata": {
    "datalore": {
     "hide_input_from_viewers": false,
     "hide_output_from_viewers": false,
     "node_id": "WUgzpCrtz6qvTWeMcwleCe",
     "report_properties": {
      "rowId": "QPTiDox9sGkHkQFnuuMVVz"
     },
     "type": "MD"
    },
    "id": "pCmIR_wtiwsu"
   },
   "source": [
    "## 1.1 - Importation des librairies"
   ]
  },
  {
   "cell_type": "code",
   "execution_count": null,
   "metadata": {
    "colab": {
     "base_uri": "https://localhost:8080/"
    },
    "datalore": {
     "hide_input_from_viewers": false,
     "hide_output_from_viewers": false,
     "node_id": "PBnfkRJEuh40fJxLPsn3ZG",
     "report_properties": {
      "rowId": "LEAuwO1pfiygv0Qy8MKwvF"
     },
     "type": "CODE"
    },
    "executionInfo": {
     "elapsed": 3428,
     "status": "ok",
     "timestamp": 1688211938806,
     "user": {
      "displayName": "Tehaniii",
      "userId": "03067073566435797809"
     },
     "user_tz": -120
    },
    "id": "tGnFLpXziwsv",
    "outputId": "504834a0-ff06-49ab-b51d-bef4e9907a22"
   },
   "outputs": [],
   "source": [
    "#Importation des librairies\n",
    "import pandas as pd\n",
    "import numpy as np\n",
    "import matplotlib.pyplot as plt\n",
    "import seaborn as sns\n",
    "\n",
    "from sklearn import preprocessing\n",
    "from sklearn.model_selection import train_test_split\n",
    "from sklearn.linear_model import LinearRegression\n",
    "from sklearn.feature_selection import RFE\n",
    "from sklearn.model_selection import KFold\n",
    "from sklearn.model_selection import GridSearchCV\n",
    "from sklearn.model_selection import cross_val_score\n",
    "from sklearn.metrics import mean_squared_error\n",
    "from sklearn.cluster import AgglomerativeClustering\n",
    "from sklearn.neighbors import NearestCentroid\n",
    "from sklearn.cluster import KMeans\n",
    "from sklearn.decomposition import PCA\n",
    "\n",
    "import scipy.stats as ss\n",
    "from scipy.cluster.hierarchy import dendrogram, linkage\n",
    "\n",
    "import statsmodels.api as sm"
   ]
  },
  {
   "cell_type": "code",
   "execution_count": null,
   "outputs": [],
   "source": [
    "#Chargement de la librairie graphique\n",
    "sns.set()"
   ],
   "metadata": {
    "collapsed": false
   }
  },
  {
   "cell_type": "markdown",
   "metadata": {
    "datalore": {
     "hide_input_from_viewers": false,
     "hide_output_from_viewers": false,
     "node_id": "sepiokARAir2xuLksAdLsK",
     "report_properties": {
      "rowId": "jsLdri6gPJ7yy6O3enpU4e"
     },
     "type": "MD"
    },
    "id": "1VxbQzPEiwsw"
   },
   "source": [
    "## 1.2 - Chargement du fichier et séparation en 2 DataFrames"
   ]
  },
  {
   "cell_type": "code",
   "execution_count": null,
   "metadata": {
    "datalore": {
     "hide_input_from_viewers": false,
     "hide_output_from_viewers": false,
     "node_id": "eKALxcS4HU8fox5dd9w3Ha",
     "report_properties": {
      "rowId": "F6iF3THpMlmGFJP1AGoMzN"
     },
     "type": "CODE"
    },
    "executionInfo": {
     "elapsed": 20,
     "status": "ok",
     "timestamp": 1688211938808,
     "user": {
      "displayName": "Tehaniii",
      "userId": "03067073566435797809"
     },
     "user_tz": -120
    },
    "id": "YPfRBY_Eiwsy"
   },
   "outputs": [],
   "source": [
    "#Importation du fichier population.csv en mettant l'index sur 'Zone'\n",
    "billet = pd.read_csv('./Data_source/billets.csv', sep=';')"
   ]
  },
  {
   "cell_type": "code",
   "execution_count": null,
   "outputs": [],
   "source": [
    "#Affichage des dimensions et de leurs types\n",
    "display(billet.info())"
   ],
   "metadata": {
    "collapsed": false
   }
  },
  {
   "cell_type": "markdown",
   "source": [
    "Nous pouvons voir que sur les 1500 lignes, la variable 'Height_left' contient des valeurs manquantes."
   ],
   "metadata": {
    "collapsed": false
   }
  },
  {
   "cell_type": "code",
   "execution_count": null,
   "outputs": [],
   "source": [
    "#Affichage d'un échantillon\n",
    "display(billet.sample(5))"
   ],
   "metadata": {
    "collapsed": false
   }
  },
  {
   "cell_type": "code",
   "execution_count": null,
   "outputs": [],
   "source": [
    "#Séparation en 2 DataFrames\n",
    "billet_vrai = billet.loc[billet['is_genuine'] == True, :].copy()\n",
    "billet_vrai.drop('is_genuine', axis=1, inplace=True)\n",
    "\n",
    "billet_faux = billet.loc[billet['is_genuine'] == False, :].copy()\n",
    "billet_faux.drop('is_genuine', axis=1, inplace=True)"
   ],
   "metadata": {
    "collapsed": false
   }
  },
  {
   "cell_type": "markdown",
   "source": [
    "## Etape 2 - Analyse exploratoire des données"
   ],
   "metadata": {
    "collapsed": false
   }
  },
  {
   "cell_type": "markdown",
   "source": [
    "## 2.2 - Statistiques descriptives"
   ],
   "metadata": {
    "collapsed": false
   }
  },
  {
   "cell_type": "code",
   "execution_count": null,
   "outputs": [],
   "source": [
    "#Affichage des statistiques descriptives\n",
    "stats_descr = billet.describe().round(2)\n",
    "display(stats_descr)"
   ],
   "metadata": {
    "collapsed": false
   }
  },
  {
   "cell_type": "markdown",
   "source": [
    "Nous pouvons remarquer 37 valeurs manquantes dans la variable 'margin_low'."
   ],
   "metadata": {
    "collapsed": false
   }
  },
  {
   "cell_type": "markdown",
   "source": [
    "## 2.3 - Analyse univariée"
   ],
   "metadata": {
    "collapsed": false
   }
  },
  {
   "cell_type": "code",
   "execution_count": null,
   "outputs": [],
   "source": [
    "#Affichage des histogrammes avec la densité de probabilité\n",
    "for col in stats_descr.columns:\n",
    "    mu = stats_descr.loc['mean', col]\n",
    "    sigma = stats_descr.loc['std', col]\n",
    "    #Règle de Sturges pour déterminer approximativement le nombre optimal de classes\n",
    "    num_bins = int(np.ceil(np.log2(stats_descr.loc['count', col])) + 1)\n",
    "    #num_bins = 15\n",
    "    print(num_bins)\n",
    "\n",
    "    fig, ax = plt.subplots(figsize=(8, 5))\n",
    "\n",
    "    #Affichage de l'histogramme\n",
    "    n, bins, patches = ax.hist(billet[col], num_bins, density=True)\n",
    "\n",
    "    #Affichage de la densité de probabilité\n",
    "    y = ((1 / (np.sqrt(2 * np.pi) * sigma)) *\n",
    "         np.exp(-0.5 * (1 / sigma * (bins - mu))**2))\n",
    "    ax.plot(bins, y, '--')\n",
    "    ax.set_xlabel('Valeurs')\n",
    "    ax.set_ylabel('Densité de probabilité')\n",
    "    ax.set_title(f\"Distribution de '{col}' et densité de probabilité : \"\n",
    "                 fr'$\\mu={mu:.2f}$, $\\sigma={sigma:.2f}$')\n",
    "\n",
    "    fig.tight_layout()\n",
    "    plt.show()\n",
    "\n",
    "    #Test de Kolmogorov-Smirnov\n",
    "    print('Si p-value est inférieure à 0.05 alors on rejette H0 = normalité: {}\\n\\n'.format(ss.kstest(billet_vrai[col], 'norm')))"
   ],
   "metadata": {
    "collapsed": false
   }
  },
  {
   "cell_type": "markdown",
   "source": [
    "Les densités de probabilité des variables 'margin_low' et 'length' sont éloignées d'une loi normale principalement à cause de la présence des faux billets."
   ],
   "metadata": {
    "collapsed": false
   }
  },
  {
   "cell_type": "code",
   "execution_count": null,
   "outputs": [],
   "source": [
    "#Affichage des boxplots\n",
    "for col in stats_descr.columns:\n",
    "    sns.boxplot(data=billet[col], orient='h')\n",
    "    \n",
    "    plt.title(f\"Boxplot de '{col}'\")\n",
    "    plt.show()"
   ],
   "metadata": {
    "collapsed": false
   }
  },
  {
   "cell_type": "markdown",
   "source": [
    "Nous ne remarquons pas de valeurs aberrantes dans les variables."
   ],
   "metadata": {
    "collapsed": false
   }
  },
  {
   "cell_type": "markdown",
   "source": [
    "## 2.4 - Analyse bivariée"
   ],
   "metadata": {
    "collapsed": false
   }
  },
  {
   "cell_type": "markdown",
   "source": [
    "**Matrice de corrélation entre les variables**"
   ],
   "metadata": {
    "collapsed": false
   }
  },
  {
   "cell_type": "code",
   "execution_count": null,
   "outputs": [],
   "source": [
    "# TODO : voir pour faire l'analyse bivariée sans les lignes avec des valeurs manquantes\n",
    "#Matrice des corrélations utilisant le coefficient de corrélation de Pearson\n",
    "corr_matrix = billet.iloc[:, 1:].corr(method='pearson', min_periods=20)\n",
    "\n",
    "#Masque pour la partie triangulaire supérieure de la matrice\n",
    "mask = np.triu(corr_matrix)"
   ],
   "metadata": {
    "collapsed": false
   }
  },
  {
   "cell_type": "code",
   "execution_count": null,
   "outputs": [],
   "source": [
    "#Heatmap représentant la matrice des corrélations\n",
    "plt.figure(figsize=(15,6))\n",
    "plt.title(\"Heatmap des coefficients de corrélation de Pearson entre les variables\", fontsize=14)\n",
    "\n",
    "sns.heatmap(corr_matrix, annot=True, vmin=-1, vmax=1, cmap='coolwarm', mask=mask, fmt='.2f')\n",
    "plt.show()"
   ],
   "metadata": {
    "collapsed": false
   }
  },
  {
   "cell_type": "markdown",
   "source": [
    "Nous pouvons voir que les variables 'length' et 'is_genuine' sont très fortement corrélées (0.85). Ce qui serait une piste pour la détection des faux billets à l'aide de la regression logistique..."
   ],
   "metadata": {
    "collapsed": false
   }
  },
  {
   "cell_type": "code",
   "execution_count": null,
   "outputs": [],
   "source": [
    "#Pairplots pour visualiser les potentielles corrélations\n",
    "sns.pairplot(billet, hue='is_genuine', corner=True)\n",
    "plt.show()"
   ],
   "metadata": {
    "collapsed": false
   }
  },
  {
   "cell_type": "markdown",
   "source": [
    "## 2.5 - Imputation des valeurs manquantes"
   ],
   "metadata": {
    "collapsed": false
   }
  },
  {
   "cell_type": "markdown",
   "source": [
    "## 2.5.1 - Choix des variables explicatives pour la regression linéaire"
   ],
   "metadata": {
    "collapsed": false
   }
  },
  {
   "cell_type": "code",
   "execution_count": null,
   "outputs": [],
   "source": [
    "# TODO : voir si encore pertinent\n",
    "#Conversion de 'is_genuine' en 0 et 1\n",
    "billet['is_genuine'].replace([True, False], [1,0], inplace=True)"
   ],
   "metadata": {
    "collapsed": false
   }
  },
  {
   "cell_type": "code",
   "execution_count": null,
   "outputs": [],
   "source": [
    "#Séparation en deux DataFrames avec et sans NA\n",
    "billet_isna = billet.loc[billet['margin_low'].isna(), :].copy()\n",
    "billet_dropna = billet.dropna().copy()"
   ],
   "metadata": {
    "collapsed": false
   }
  },
  {
   "cell_type": "code",
   "execution_count": null,
   "outputs": [],
   "source": [
    "#Fonction permettant de sélectionner les variables explicatives les plus pertinentes à l'aide de la méthode backward regression\n",
    "def backward_regression(X, y,\n",
    "                        threshold_out = 0.05,\n",
    "                        verbose=True):\n",
    "    included=list(X.columns)\n",
    "    while True:\n",
    "        changed=False\n",
    "        model = sm.OLS(y, sm.add_constant(pd.DataFrame(X[included]))).fit()\n",
    "        pvalues = model.pvalues.iloc[1:] #On ne prend pas en compte la constante\n",
    "        worst_pval = pvalues.max() # null si la p-value n'existe pas\n",
    "        if worst_pval > threshold_out:\n",
    "            changed=True\n",
    "            worst_feature = pvalues.idxmax()\n",
    "            included.remove(worst_feature)\n",
    "            if verbose:\n",
    "                print(\"Drop '{}' car p-value {} > 0.05\".format(worst_feature, round(worst_pval, 4)))\n",
    "        if not changed:\n",
    "            break\n",
    "    print(model.summary())\n",
    "    return included"
   ],
   "metadata": {
    "collapsed": false
   }
  },
  {
   "cell_type": "code",
   "execution_count": null,
   "outputs": [],
   "source": [
    "#Sélection des variables explicatives et de la variable à expliquer\n",
    "y = billet_dropna['margin_low']\n",
    "x = billet_dropna.drop(['is_genuine', 'margin_low'], axis=1)"
   ],
   "metadata": {
    "collapsed": false
   }
  },
  {
   "cell_type": "code",
   "execution_count": null,
   "outputs": [],
   "source": [
    "var_keep_list = backward_regression(x, y)\n",
    "print('Liste des variables explicatives sélectionnées : {}'.format(var_keep_list))"
   ],
   "metadata": {
    "collapsed": false
   }
  },
  {
   "cell_type": "markdown",
   "source": [
    "## 2.5.2 - Sépaparation des données en train et test pour évaluation de la performance de la régression linéaire"
   ],
   "metadata": {
    "collapsed": false
   }
  },
  {
   "cell_type": "code",
   "execution_count": null,
   "outputs": [],
   "source": [
    "#Sélection des variables explicatives après backward regression et ajout de la constante\n",
    "x = billet_dropna[var_keep_list].copy()\n",
    "#x = sm.add_constant(x)\n",
    "display(x.head(5))\n",
    "\n",
    "#split des données en train et test\n",
    "X_train, X_test, y_train, y_test = train_test_split(x, y, test_size = 0.2, random_state = 0)"
   ],
   "metadata": {
    "collapsed": false
   }
  },
  {
   "cell_type": "code",
   "outputs": [],
   "source": [
    "lm = LinearRegression()\n",
    "\n",
    "scores = cross_val_score(lm, X_train, y_train, cv=5, scoring='neg_mean_squared_error')\n",
    "\n",
    "# RSME\n",
    "np.sqrt(np.mean(np.absolute(scores)))"
   ],
   "metadata": {
    "collapsed": false
   },
   "execution_count": null
  },
  {
   "cell_type": "code",
   "outputs": [],
   "source": [
    "# step-1: create a cross-validation scheme\n",
    "folds = KFold(n_splits = 5, shuffle = True, random_state = 100)\n",
    "\n",
    "# step-2: specify range of hyperparameters to tune\n",
    "hyper_params = [{'n_features_to_select': list(range(1, 6))}]\n",
    "print(hyper_params)\n",
    "\n",
    "# step-3: perform grid search\n",
    "# 3.1 Recursive Feature Elimination (RFE) with linear regression model\n",
    "lm = LinearRegression()\n",
    "lm.fit(X_train, y_train)\n",
    "rfe = RFE(lm)\n",
    "\n",
    "# 3.2 call GridSearchCV()\n",
    "model_cv = GridSearchCV(estimator = rfe,\n",
    "                        param_grid = hyper_params,\n",
    "                        scoring= 'r2',\n",
    "                        cv = folds,\n",
    "                        verbose = 1,\n",
    "                        return_train_score=True)\n",
    "\n",
    "# fit the model\n",
    "model_cv.fit(X_train, y_train)"
   ],
   "metadata": {
    "collapsed": false
   },
   "execution_count": null
  },
  {
   "cell_type": "code",
   "outputs": [],
   "source": [
    "# cv results\n",
    "cv_results = pd.DataFrame(model_cv.cv_results_)\n",
    "display(cv_results)"
   ],
   "metadata": {
    "collapsed": false
   },
   "execution_count": null
  },
  {
   "cell_type": "code",
   "outputs": [],
   "source": [
    "# plotting cv results\n",
    "plt.figure(figsize=(16,6))\n",
    "\n",
    "plt.plot(cv_results[\"param_n_features_to_select\"], cv_results[\"mean_test_score\"])\n",
    "plt.plot(cv_results[\"param_n_features_to_select\"], cv_results[\"mean_train_score\"])\n",
    "plt.xlabel('number of features')\n",
    "plt.ylabel('r-squared')\n",
    "plt.title(\"Optimal Number of Features\")\n",
    "plt.legend(['test score', 'train score'], loc='upper left')"
   ],
   "metadata": {
    "collapsed": false
   },
   "execution_count": null
  },
  {
   "cell_type": "code",
   "outputs": [],
   "source": [
    "# final model\n",
    "n_features_optimal = 2\n",
    "\n",
    "lm = LinearRegression()\n",
    "lm.fit(X_train, y_train)\n",
    "\n",
    "rfe = RFE(lm, n_features_to_select=n_features_optimal)\n",
    "rfe = rfe.fit(X_train, y_train)"
   ],
   "metadata": {
    "collapsed": false
   },
   "execution_count": null
  },
  {
   "cell_type": "code",
   "outputs": [],
   "source": [
    "# tuples of (feature name, whether selected, ranking)\n",
    "# note that the 'rank' is > 1 for non-selected features\n",
    "list(zip(X_train.columns,rfe.support_,rfe.ranking_))"
   ],
   "metadata": {
    "collapsed": false
   },
   "execution_count": null
  },
  {
   "cell_type": "code",
   "execution_count": null,
   "outputs": [],
   "source": [
    "# TODO : mettre une cross validation\n",
    "#Instanciation et entrainment du modèle\n",
    "model = sm.OLS(y_train, X_train).fit()\n",
    "\n",
    "#Prédiction à partir des données de test\n",
    "y_pred = model.predict(X_test)"
   ],
   "metadata": {
    "collapsed": false
   }
  },
  {
   "cell_type": "code",
   "execution_count": null,
   "outputs": [],
   "source": [
    "#Evaluation des performances du modèle avec RSME\n",
    "print('RMSE : {}'.format(round(mean_squared_error(y_test, y_pred, squared=True), 2)))"
   ],
   "metadata": {
    "collapsed": false
   }
  },
  {
   "cell_type": "markdown",
   "source": [
    "Ça représente environ 10% de la moyenne de la variable 'margin_low'. Ce qui est acceptable."
   ],
   "metadata": {
    "collapsed": false
   }
  },
  {
   "cell_type": "markdown",
   "source": [
    "## 2.5.3 - test des conditions de validité de la régression linéaire"
   ],
   "metadata": {
    "collapsed": false
   }
  },
  {
   "cell_type": "code",
   "execution_count": null,
   "outputs": [],
   "source": [
    "# TODO : faire les tests de validité de la régression linéaire avec graphique \"Q-Q plot\" et “standardized residuals vs fitted plot”"
   ],
   "metadata": {
    "collapsed": false
   }
  },
  {
   "cell_type": "markdown",
   "source": [
    "## 2.5.4 - Prediction des valeurs manquantes"
   ],
   "metadata": {
    "collapsed": false
   }
  },
  {
   "cell_type": "code",
   "execution_count": null,
   "outputs": [],
   "source": [
    "#Instanciation et entrainment du modèle\n",
    "model = sm.OLS(y, x).fit()\n",
    "\n",
    "#Prédiction des valeurs manquantes\n",
    "billet_isna['margin_low'] = model.predict(sm.add_constant(billet_isna[var_keep_list])).round(2)\n",
    "\n",
    "display(billet_isna.head(10))"
   ],
   "metadata": {
    "collapsed": false
   }
  },
  {
   "cell_type": "markdown",
   "source": [
    "## Etape 3 - Split des données et Centrage, Reduction (Scaling)"
   ],
   "metadata": {
    "collapsed": false
   }
  },
  {
   "cell_type": "markdown",
   "source": [
    "**- Split des données**"
   ],
   "metadata": {
    "collapsed": false
   }
  },
  {
   "cell_type": "code",
   "execution_count": null,
   "outputs": [],
   "source": [
    "#Conversion de dispo_alim en numpy array et affichage\n",
    "x = billet.values\n",
    "\n",
    "#Insertion de 'Zone' (pays) dans 'names'\n",
    "names = billet.index\n",
    "\n",
    "#Insertion des noms de colonne dans 'features'\n",
    "features = billet.columns"
   ],
   "metadata": {
    "collapsed": false
   }
  },
  {
   "cell_type": "markdown",
   "source": [
    "**- Centrage et Réduction**"
   ],
   "metadata": {
    "collapsed": false
   }
  },
  {
   "cell_type": "code",
   "execution_count": null,
   "outputs": [],
   "source": [
    "#Instanciation du Scaler\n",
    "std_scale = preprocessing.StandardScaler()\n",
    "\n",
    "#Entrainement\n",
    "std_scale.fit(x)"
   ],
   "metadata": {
    "collapsed": false
   }
  },
  {
   "cell_type": "code",
   "execution_count": null,
   "outputs": [],
   "source": [
    "#Transformation\n",
    "x_scaled = std_scale.transform(x)"
   ],
   "metadata": {
    "collapsed": false
   }
  },
  {
   "cell_type": "code",
   "execution_count": null,
   "outputs": [],
   "source": [
    "#Pour vérifier que le centrage/réduction s'est bien passé\n",
    "pd.DataFrame(x_scaled).describe().round(2).iloc[1:3:, : ]"
   ],
   "metadata": {
    "collapsed": false
   }
  }
 ],
 "metadata": {
  "colab": {
   "provenance": [],
   "toc_visible": true
  },
  "datalore": {
   "base_environment": "default",
   "computation_mode": "JUPYTER",
   "package_manager": "pip",
   "packages": [],
   "report_row_ids": [
    "bQVdch3WwH71PERijuXOJf",
    "oLZfdyjY97Qfpmb939g74j",
    "8JGXqNfVG3AzH01bTCInW4",
    "KcHwtHqP2KarZqESgS5Cuv",
    "QPTiDox9sGkHkQFnuuMVVz",
    "LEAuwO1pfiygv0Qy8MKwvF",
    "jsLdri6gPJ7yy6O3enpU4e",
    "nCj19OueZbR8bwn0vBz6j0",
    "F6iF3THpMlmGFJP1AGoMzN",
    "ywlTo6eEX0CYCw5UEsKWyA",
    "PntplFQPhsmftLSzzsikTV",
    "Cpv1XiURwQ7SEzwguwskxE",
    "4BduE0kzP5a3gT6ujRenK8",
    "cQbD34mRlQ1IHrd8nj2Gnc",
    "awm72cPzvtK0sDe0qrZf76",
    "8j0lmVf3dm7HdGJ1V0MBhu",
    "i8dCvX2FUVCtc33UOUsC6X",
    "af8YE2XksKREuOXQ3oTIo3",
    "Oc1C0ic0YHkUciGYgjyRjK",
    "5ow5Tlml6lfZ3EGT5qynZD",
    "C4IIf8tn0v64Q37yWDnID1",
    "Ccy0LGz2ONouw7zltn3OLi",
    "nxd0g5wyPfkEIUczifrLko",
    "g9udcGq4dzmVv77k6JmOI0",
    "veDQii1FzqZqY3IkrxaKb9",
    "9CmddA2VknKlK16BAEmKTn",
    "xBTsnO8XI9cJgn3ICHdFuz",
    "d7ZpOwi7zAYFth2VG3ogfF",
    "uKxJXxIuQdx53DPlDvxnit",
    "UfIJQW2qBVF8fQT4mzymXx",
    "2fUwZqFtMySJf5UEnnH0Dv",
    "iutIQnOD3H8wU5LhyOlngJ",
    "6xZvPF9BbeEc2k7vDs6TGd",
    "3PooltVifT93LMj1Iw8f6N",
    "vb98CBmeXwkDpsnV3t8mqz",
    "SfsCs9xZEL3cCgKmTf2BPj",
    "lcwF7Tk6Y2SUHQcOycCJft",
    "WnbGgzXbeKkRqmMUM7YmnS",
    "NRC03cJzisqn9l77O7dOcZ",
    "t8ZPtL3F0zfEUE8bLoBERx",
    "EiUnODpIhI44h5LBoZVmhS",
    "sMvDzumUJMgZ5SdpYf6SPX",
    "GHr5m7gPmPIjbNXtOO1HoT",
    "ijpljzGKj8Uwp89epPVUza",
    "GT6PmhS2hWnloBZ3exnPYS",
    "hkTSjG7hXoqC2L31VsYpMh",
    "qcqZIEdxND6rkKidIptueN",
    "lnBJjpikNpTXJYWyADeScN",
    "4eZYapPGLduFkX1THmhzdn",
    "rZoq0fe5jzBT8D7m7gGz7z",
    "iT20a5sqM0NI05AMb20gOf",
    "QzVsfTqHqWfB9fRKHDBsy1",
    "88s8rK5YueO1OGZ0B9XJn3",
    "8mthDba9nY61ovTwDnNlEr",
    "99wUJg8F2LnoPlhP6j4yra",
    "uQwQXAYWlCWjnFz3h1hoOG",
    "e0z5VNLhIp3tgA3n7WoSI0",
    "IDgbk25rIvUHbM47iQM873",
    "Z3wCsJJGT1HrRsbgGAblYa",
    "Su3Vm1Q5EaylJBSEHTAzsv",
    "c4VdWh8D9UXYIF05Z6QwKw",
    "dWm98UQIhNYCylP4Uw1AOe",
    "szSbc3oi6BQNrmYzZBabX1",
    "BU4QQSNkpiTkHBhLOp8hby",
    "LFrGh4PvdcFo62ck9HZTkK",
    "uR4HTvPNh8jKT1fJZPuKww",
    "AKAXzjtvIy8DRgbwJ03zxv",
    "Q6LNdMvt2HKFWZPdIQE7vT",
    "vkWaiVHRDM3VjQYvW5ChM8",
    "Mi1FIeIKuFQdqgboiVITIs",
    "7mR071PWTm2VnlcE8mjyes",
    "o6craFalVsxJmBL3nvq2wm",
    "2Nzgmc14i0niJO5iuY5mXu",
    "CLFHGxwqJSzIfDT7uEx9v1",
    "jMiRVcNPk0FiUM5FVhfmvl",
    "etfSnF1NvgmrT9rcQZDBSP",
    "5RFRS9Ppjdhu1ZysI2uCcn",
    "EhmAdenAy536jEojbZyxEa",
    "hxKsszGPIsGO5aYKVVa3Vp",
    "G4UmcWa55G8lXCpnXs5vfT",
    "pQmoRDZugR1ugtyBrxPUtM",
    "qHtSocgUQorAkg9FelISt6",
    "I07fLRnehsBg1tRm1XXTa8",
    "GYkFP59kH6vPeOKoQ6NQsV"
   ],
   "version": 3
  },
  "kernelspec": {
   "display_name": "Python 3 (ipykernel)",
   "language": "python",
   "name": "python3"
  },
  "language_info": {
   "codemirror_mode": {
    "name": "ipython",
    "version": 3
   },
   "file_extension": ".py",
   "mimetype": "text/x-python",
   "name": "python",
   "nbconvert_exporter": "python",
   "pygments_lexer": "ipython3",
   "version": "3.9.12"
  }
 },
 "nbformat": 4,
 "nbformat_minor": 1
}
